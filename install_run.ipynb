{
 "cells": [
  {
   "attachments": {},
   "cell_type": "markdown",
   "id": "75ee10be-0aa0-4ecc-8c60-ab31f9042671",
   "metadata": {
    "tags": []
   },
   "source": [
    "### Env Setup\n",
    "#### 1. Install dependency + git repo"
   ]
  },
  {
   "cell_type": "code",
   "execution_count": 1,
   "id": "4c1f0921-e5a7-4164-a304-f54e403e5aa0",
   "metadata": {
    "tags": []
   },
   "outputs": [
    {
     "name": "stdout",
     "output_type": "stream",
     "text": [
      "Looking in indexes: https://pypi.org/simple, https://pip.repos.neuron.amazonaws.com\n",
      "Collecting fastapi==0.90.1\n",
      "  Downloading fastapi-0.90.1-py3-none-any.whl (56 kB)\n",
      "\u001b[2K     \u001b[90m━━━━━━━━━━━━━━━━━━━━━━━━━━━━━━━━━━━━━━━━\u001b[0m \u001b[32m56.2/56.2 kB\u001b[0m \u001b[31m4.0 MB/s\u001b[0m eta \u001b[36m0:00:00\u001b[0m\n",
      "\u001b[?25hCollecting pydantic!=1.7,!=1.7.1,!=1.7.2,!=1.7.3,!=1.8,!=1.8.1,<2.0.0,>=1.6.2\n",
      "  Downloading pydantic-1.10.9-cp310-cp310-manylinux_2_17_x86_64.manylinux2014_x86_64.whl (3.1 MB)\n",
      "\u001b[2K     \u001b[90m━━━━━━━━━━━━━━━━━━━━━━━━━━━━━━━━━━━━━━━━\u001b[0m \u001b[32m3.1/3.1 MB\u001b[0m \u001b[31m28.6 MB/s\u001b[0m eta \u001b[36m0:00:00\u001b[0m00:01\u001b[0m00:01\u001b[0m\n",
      "\u001b[?25hCollecting starlette<0.24.0,>=0.22.0\n",
      "  Downloading starlette-0.23.1-py3-none-any.whl (64 kB)\n",
      "\u001b[2K     \u001b[90m━━━━━━━━━━━━━━━━━━━━━━━━━━━━━━━━━━━━━━━━\u001b[0m \u001b[32m64.5/64.5 kB\u001b[0m \u001b[31m19.6 MB/s\u001b[0m eta \u001b[36m0:00:00\u001b[0m\n",
      "\u001b[?25hRequirement already satisfied: typing-extensions>=4.2.0 in /home/ec2-user/anaconda3/envs/python3/lib/python3.10/site-packages (from pydantic!=1.7,!=1.7.1,!=1.7.2,!=1.7.3,!=1.8,!=1.8.1,<2.0.0,>=1.6.2->fastapi==0.90.1) (4.4.0)\n",
      "Requirement already satisfied: anyio<5,>=3.4.0 in /home/ec2-user/anaconda3/envs/python3/lib/python3.10/site-packages (from starlette<0.24.0,>=0.22.0->fastapi==0.90.1) (3.6.2)\n",
      "Requirement already satisfied: sniffio>=1.1 in /home/ec2-user/anaconda3/envs/python3/lib/python3.10/site-packages (from anyio<5,>=3.4.0->starlette<0.24.0,>=0.22.0->fastapi==0.90.1) (1.3.0)\n",
      "Requirement already satisfied: idna>=2.8 in /home/ec2-user/anaconda3/envs/python3/lib/python3.10/site-packages (from anyio<5,>=3.4.0->starlette<0.24.0,>=0.22.0->fastapi==0.90.1) (3.4)\n",
      "Installing collected packages: pydantic, starlette, fastapi\n",
      "Successfully installed fastapi-0.90.1 pydantic-1.10.9 starlette-0.23.1\n",
      "Cloning into 'stable-diffusion-webui'...\n",
      "remote: Enumerating objects: 22300, done.\u001b[K\n",
      "remote: Counting objects: 100% (9/9), done.\u001b[K\n",
      "remote: Compressing objects: 100% (8/8), done.\u001b[K\n",
      "remote: Total 22300 (delta 2), reused 3 (delta 1), pack-reused 22291\u001b[K\n",
      "Receiving objects: 100% (22300/22300), 30.39 MiB | 55.87 MiB/s, done.\n",
      "Resolving deltas: 100% (15557/15557), done.\n"
     ]
    }
   ],
   "source": [
    "!pip install --upgrade fastapi==0.90.1\n",
    "!git clone https://github.com/AUTOMATIC1111/stable-diffusion-webui"
   ]
  },
  {
   "attachments": {},
   "cell_type": "markdown",
   "id": "62adc245-b646-44b4-91d3-d3b88cb726b3",
   "metadata": {},
   "source": [
    "#### 2. Download model + plugin"
   ]
  },
  {
   "cell_type": "code",
   "execution_count": 19,
   "id": "8cb6cb07-47d3-444c-9377-534e223faa8b",
   "metadata": {
    "tags": []
   },
   "outputs": [
    {
     "name": "stdout",
     "output_type": "stream",
     "text": [
      "Cloning into '/home/ec2-user/SageMaker/stable-diffusion-webui/extensions/stable-diffusion-webui-images-browser'...\n",
      "remote: Enumerating objects: 143, done.\u001b[K\n",
      "remote: Counting objects: 100% (34/34), done.\u001b[K\n",
      "remote: Compressing objects: 100% (13/13), done.\u001b[K\n",
      "remote: Total 143 (delta 25), reused 21 (delta 21), pack-reused 109\u001b[K\n",
      "Receiving objects: 100% (143/143), 37.92 KiB | 12.64 MiB/s, done.\n",
      "Resolving deltas: 100% (51/51), done.\n",
      "{\n",
      "    \"AcceptRanges\": \"bytes\",\n",
      "    \"LastModified\": \"Sun, 04 Jun 2023 17:32:12 GMT\",\n",
      "    \"ContentLength\": 2132626252,\n",
      "    \"ETag\": \"\\\"a1c275e4fdde4500bf3407fd2dacf521\\\"\",\n",
      "    \"ContentType\": \"binary/octet-stream\",\n",
      "    \"ServerSideEncryption\": \"AES256\",\n",
      "    \"Metadata\": {}\n",
      "}\n"
     ]
    }
   ],
   "source": [
    "# replace to your current dir path\n",
    "!git clone https://github.com/yfszzx/stable-diffusion-webui-images-browser /home/ec2-user/SageMaker/stable-diffusion-webui/extensions/stable-diffusion-webui-images-browser\n",
    "# download our base model - feel free to replace with any other models you want to play with\n",
    "!aws s3api get-object --bucket YOUR_BUCKET_NAME --key models/toonyou_beta3.safetensors toonyou_beta3.safetensors"
   ]
  },
  {
   "cell_type": "code",
   "execution_count": 20,
   "id": "3c245970-e282-4748-91dc-3030c08ece74",
   "metadata": {
    "tags": []
   },
   "outputs": [
    {
     "name": "stdout",
     "output_type": "stream",
     "text": [
      "  % Total    % Received % Xferd  Average Speed   Time    Time     Time  Current\n",
      "                                 Dload  Upload   Total   Spent    Left  Speed\n",
      "100  1125  100  1125    0     0  12745      0 --:--:-- --:--:-- --:--:-- 12784\n",
      "100 10155  100 10155    0     0    97k      0 --:--:-- --:--:-- --:--:--   97k\n"
     ]
    }
   ],
   "source": [
    "!curl -Lo ulzzang-6500.pt https://huggingface.co/nolanaatama/chomni/resolve/main/ulzzang-6500.pt\n",
    "!mv \"/home/ec2-user/SageMaker/toonyou_beta3.safetensors\" \"/home/ec2-user/SageMaker/stable-diffusion-webui/models/Stable-diffusion\"\n",
    "!mv \"/home/ec2-user/SageMaker/ulzzang-6500.pt\" \"/home/ec2-user/SageMaker/stable-diffusion-webui/embeddings\""
   ]
  },
  {
   "attachments": {},
   "cell_type": "markdown",
   "id": "daa8696a-be56-4e7b-81eb-a937ff06d169",
   "metadata": {
    "tags": []
   },
   "source": [
    "### Run"
   ]
  },
  {
   "cell_type": "code",
   "execution_count": null,
   "id": "def279c2-0217-45db-8ba7-9f4eb03ea303",
   "metadata": {
    "tags": []
   },
   "outputs": [
    {
     "name": "stdout",
     "output_type": "stream",
     "text": [
      "/home/ec2-user/SageMaker/stable-diffusion-webui\n",
      "Python 3.10.8 | packaged by conda-forge | (main, Nov 22 2022, 08:26:04) [GCC 10.4.0]\n",
      "Version: v1.3.2\n",
      "Commit hash: baf6946e06249c5af9851c60171692c44ef633e0\n",
      "Installing xformers\n",
      "Installing requirements\n",
      "Launching Web UI with arguments: --share --disable-safe-unpickle --skip-torch-cuda-test --no-half-vae --xformers --reinstall-xformers --enable-insecure-extension-access\n",
      "Loading weights [52768d2bc4] from /home/ec2-user/SageMaker/stable-diffusion-webui/models/Stable-diffusion/toonyou_beta3.safetensors\n",
      "Creating model from config: /home/ec2-user/SageMaker/stable-diffusion-webui/configs/v1-inference.yaml\n",
      "LatentDiffusion: Running in eps-prediction mode\n",
      "Running on local URL:  http://127.0.0.1:7860\n",
      "DiffusionWrapper has 859.52 M params.\n",
      "/home/ec2-user/SageMaker/stable-diffusion-webui/repositories/stable-diffusion-stability-ai/ldm/models/diffusion/ddpm.py:163: RuntimeWarning: divide by zero encountered in true_divide\n",
      "  self.register_buffer('sqrt_recip_alphas_cumprod', to_torch(np.sqrt(1. / alphas_cumprod)))\n",
      "/home/ec2-user/SageMaker/stable-diffusion-webui/repositories/stable-diffusion-stability-ai/ldm/models/diffusion/ddpm.py:164: RuntimeWarning: divide by zero encountered in true_divide\n",
      "  self.register_buffer('sqrt_recipm1_alphas_cumprod', to_torch(np.sqrt(1. / alphas_cumprod - 1)))\n",
      "Running on public URL: https://a84efe804f9d8f9375.gradio.live\n",
      "\n",
      "This share link expires in 72 hours. For free permanent hosting and GPU upgrades (NEW!), check out Spaces: https://huggingface.co/spaces\n",
      "Startup time: 7.3s (import torch: 1.3s, import gradio: 1.1s, import ldm: 1.0s, other imports: 0.9s, load scripts: 0.6s, create ui: 0.5s, gradio launch: 1.7s).\n",
      "Applying optimization: xformers... done.\n",
      "Textual inversion embeddings loaded(1): ulzzang-6500\n",
      "Model loaded in 4.4s (load weights from disk: 1.1s, create model: 0.6s, apply weights to model: 0.4s, apply half(): 0.3s, load VAE: 1.4s, move model to device: 0.6s).\n"
     ]
    }
   ],
   "source": [
    "%cd /home/ec2-user/SageMaker/stable-diffusion-webui\n",
    "!COMMANDLINE_ARGS=\"--share --disable-safe-unpickle --skip-torch-cuda-test --no-half-vae --xformers --reinstall-xformers --enable-insecure-extension-access\" REQS_FILE=\"requirements.txt\" python launch.py"
   ]
  },
  {
   "cell_type": "code",
   "execution_count": null,
   "id": "4b009021-c603-44d1-839a-cd848d014a19",
   "metadata": {},
   "outputs": [],
   "source": []
  }
 ],
 "metadata": {
  "kernelspec": {
   "display_name": "conda_python3",
   "language": "python",
   "name": "conda_python3"
  },
  "language_info": {
   "codemirror_mode": {
    "name": "ipython",
    "version": 3
   },
   "file_extension": ".py",
   "mimetype": "text/x-python",
   "name": "python",
   "nbconvert_exporter": "python",
   "pygments_lexer": "ipython3",
   "version": "3.10.10"
  }
 },
 "nbformat": 4,
 "nbformat_minor": 5
}
